{
  "nbformat": 4,
  "nbformat_minor": 0,
  "metadata": {
    "colab": {
      "provenance": []
    },
    "kernelspec": {
      "name": "python3",
      "display_name": "Python 3"
    },
    "language_info": {
      "name": "python"
    }
  },
  "cells": [
    {
      "cell_type": "code",
      "execution_count": null,
      "metadata": {
        "colab": {
          "base_uri": "https://localhost:8080/"
        },
        "id": "EsmTeeVO8K0l",
        "outputId": "32b62fc2-0e38-4587-a052-89db9c1a1781"
      },
      "outputs": [
        {
          "output_type": "stream",
          "name": "stdout",
          "text": [
            "Modelin doğruluğu: 1.0\n",
            "Bugün çok neşeliyim! --> Üzgün\n",
            "Hayatım hiç bu kadar kötü olmamıştı. --> Üzgün\n"
          ]
        }
      ],
      "source": [
        "from sklearn.feature_extraction.text import CountVectorizer\n",
        "from sklearn.model_selection import train_test_split\n",
        "from sklearn.naive_bayes import MultinomialNB\n",
        "from sklearn import metrics\n",
        "\n",
        "\n",
        "X = [\"Bugün harika bir gün geçirdim!\",\n",
        "     \"Son zamanlarda üzgün hissediyorum.\",\n",
        "     \"Gece uyuyamıyorum, sürekli endişeliyim.\",\n",
        "     \"İşler yolunda gitmiyor, çok stresliyim.\"]\n",
        "\n",
        "y = [1, 0, 0, 0]\n",
        "\n",
        "\n",
        "vectorizer = CountVectorizer()\n",
        "X_vectorized = vectorizer.fit_transform(X)\n",
        "\n",
        "\n",
        "X_train, X_test, y_train, y_test = train_test_split(X_vectorized, y, test_size=0.2, random_state=42)\n",
        "\n",
        "\n",
        "clf = MultinomialNB()\n",
        "clf.fit(X_train, y_train)\n",
        "\n",
        "\n",
        "y_pred = clf.predict(X_test)\n",
        "accuracy = metrics.accuracy_score(y_test, y_pred)\n",
        "print(\"Modelin doğruluğu:\", accuracy)\n",
        "\n",
        "\n",
        "new_texts = [\"Bugün çok neşeliyim!\", \"Hayatım hiç bu kadar kötü olmamıştı.\"]\n",
        "new_texts_vectorized = vectorizer.transform(new_texts)\n",
        "predictions = clf.predict(new_texts_vectorized)\n",
        "for text, label in zip(new_texts, predictions):\n",
        "    if label == 1:\n",
        "        print(f\"{text} --> Mutlu\")\n",
        "    else:\n",
        "        print(f\"{text} --> Üzgün\")\n"
      ]
    }
  ]
}